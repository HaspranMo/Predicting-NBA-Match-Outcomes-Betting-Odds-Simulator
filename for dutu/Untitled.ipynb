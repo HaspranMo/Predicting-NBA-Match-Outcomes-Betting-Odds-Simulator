{
 "cells": [
  {
   "cell_type": "code",
   "execution_count": 5,
   "id": "a5957ba1-72c4-4bcd-b212-4835a008506f",
   "metadata": {},
   "outputs": [
    {
     "name": "stdout",
     "output_type": "stream",
     "text": [
      "zsh:1: command not found: Desktop\n"
     ]
    }
   ],
   "source": [
    "! Desktop → nba_predictor-master → model\n"
   ]
  },
  {
   "cell_type": "code",
   "execution_count": null,
   "id": "4c8ffd32-e0f8-4780-bf10-18a68f0f260d",
   "metadata": {},
   "outputs": [],
   "source": []
  }
 ],
 "metadata": {
  "kernelspec": {
   "display_name": "Python 3 (ipykernel)",
   "language": "python",
   "name": "python3"
  },
  "language_info": {
   "codemirror_mode": {
    "name": "ipython",
    "version": 3
   },
   "file_extension": ".py",
   "mimetype": "text/x-python",
   "name": "python",
   "nbconvert_exporter": "python",
   "pygments_lexer": "ipython3",
   "version": "3.12.4"
  }
 },
 "nbformat": 4,
 "nbformat_minor": 5
}
